{
 "cells": [
  {
   "cell_type": "code",
   "execution_count": 1,
   "metadata": {},
   "outputs": [],
   "source": [
    "%matplotlib inline\n",
    "from matplotlib import style\n",
    "style.use('fivethirtyeight')\n",
    "import matplotlib.pyplot as plt"
   ]
  },
  {
   "cell_type": "code",
   "execution_count": 2,
   "metadata": {},
   "outputs": [],
   "source": [
    "import numpy as np\n",
    "import pandas as pd"
   ]
  },
  {
   "cell_type": "code",
   "execution_count": 3,
   "metadata": {},
   "outputs": [],
   "source": [
    "import datetime as dt"
   ]
  },
  {
   "cell_type": "markdown",
   "metadata": {},
   "source": [
    "# Reflect Tables into SQLAlchemy ORM"
   ]
  },
  {
   "cell_type": "code",
   "execution_count": 4,
   "metadata": {},
   "outputs": [],
   "source": [
    "# Python SQL toolkit and Object Relational Mapper\n",
    "import sqlalchemy\n",
    "from sqlalchemy.ext.automap import automap_base\n",
    "from sqlalchemy.orm import Session\n",
    "from sqlalchemy import create_engine, func"
   ]
  },
  {
   "cell_type": "code",
   "execution_count": 5,
   "metadata": {},
   "outputs": [],
   "source": [
    "engine = create_engine(\"sqlite:///Resources/hawaii.sqlite\")"
   ]
  },
  {
   "cell_type": "code",
   "execution_count": 6,
   "metadata": {},
   "outputs": [],
   "source": [
    "# reflect an existing database into a new model\n",
    "Base = automap_base()\n",
    "# reflect the tables\n",
    "Base.prepare(engine, reflect=True)"
   ]
  },
  {
   "cell_type": "code",
   "execution_count": 7,
   "metadata": {},
   "outputs": [
    {
     "data": {
      "text/plain": [
       "['measurement', 'station']"
      ]
     },
     "execution_count": 7,
     "metadata": {},
     "output_type": "execute_result"
    }
   ],
   "source": [
    "# View all of the classes that automap found\n",
    "Base.classes.keys()"
   ]
  },
  {
   "cell_type": "code",
   "execution_count": 8,
   "metadata": {},
   "outputs": [],
   "source": [
    "# Save references to each table\n",
    "Measurement = Base.classes.measurement\n",
    "Station = Base.classes.station"
   ]
  },
  {
   "cell_type": "code",
   "execution_count": 9,
   "metadata": {},
   "outputs": [],
   "source": [
    "# Create our session (link) from Python to the DB\n",
    "session = Session(engine)"
   ]
  },
  {
   "cell_type": "code",
   "execution_count": 10,
   "metadata": {},
   "outputs": [
    {
     "data": {
      "text/plain": [
       "{'_sa_instance_state': <sqlalchemy.orm.state.InstanceState at 0x2078d4bab70>,\n",
       " 'longitude': -157.8168,\n",
       " 'name': 'WAIKIKI 717.2, HI US',\n",
       " 'id': 1,\n",
       " 'elevation': 3.0,\n",
       " 'latitude': 21.2716,\n",
       " 'station': 'USC00519397'}"
      ]
     },
     "execution_count": 10,
     "metadata": {},
     "output_type": "execute_result"
    }
   ],
   "source": [
    "# Display the first row's columns and data in dictionary format for table Station\n",
    "first_row_Station = session.query(Station).first()\n",
    "first_row_Station.__dict__   "
   ]
  },
  {
   "cell_type": "markdown",
   "metadata": {},
   "source": [
    "# Exploratory Climate Analysis"
   ]
  },
  {
   "cell_type": "markdown",
   "metadata": {},
   "source": [
    "### Design a query to retrieve the last 12 months of precipitation data and plot the results"
   ]
  },
  {
   "cell_type": "code",
   "execution_count": 11,
   "metadata": {},
   "outputs": [
    {
     "data": {
      "text/plain": [
       "{'_sa_instance_state': <sqlalchemy.orm.state.InstanceState at 0x2078d503518>,\n",
       " 'prcp': 0.08,\n",
       " 'date': '2010-01-01',\n",
       " 'id': 1,\n",
       " 'tobs': 65.0,\n",
       " 'station': 'USC00519397'}"
      ]
     },
     "execution_count": 11,
     "metadata": {},
     "output_type": "execute_result"
    }
   ],
   "source": [
    "# Display the first row's columns and data in dictionary format for table Measurement\n",
    "first_row_Measurement = session.query(Measurement).first()\n",
    "first_row_Measurement.__dict__   "
   ]
  },
  {
   "cell_type": "code",
   "execution_count": 12,
   "metadata": {},
   "outputs": [
    {
     "name": "stdout",
     "output_type": "stream",
     "text": [
      "Time range of this dataset is from 2010-01-01 to 2017-08-23.\n"
     ]
    }
   ],
   "source": [
    "'''Determine time range of this dataset to be shown on index.html of ClimateApp'''\n",
    "# Query for date of the latest documented data from \"measurement\" table\n",
    "date_latest = session.query(Measurement.date).order_by(Measurement.date.desc()).first()[0]\n",
    "\n",
    "# Query for date of the oldest documented data from \"measurement\" table\n",
    "date_earliest = session.query(Measurement.date).order_by(Measurement.date).first()[0]\n",
    "\n",
    "# Display time range of this dataset\n",
    "print(f'Time range of this dataset is from {date_earliest} to {date_latest}.')"
   ]
  },
  {
   "cell_type": "code",
   "execution_count": 13,
   "metadata": {},
   "outputs": [
    {
     "name": "stdout",
     "output_type": "stream",
     "text": [
      "One-year threshold date towards \"date_latest\" is 2016-08-23.\n"
     ]
    }
   ],
   "source": [
    "# Determine the date that is exactly 1 year apart (inclusive) from \"date_latest\"\n",
    "date_latest_list = [int(i) for i in date_latest.split(\"-\")]\n",
    "date_thold_1yr = dt.date(*date_latest_list) - dt.timedelta(days=365)\n",
    "\n",
    "# Display one-year threshold date\n",
    "print(f'One-year threshold date towards \"date_latest\" is {date_thold_1yr}.')"
   ]
  },
  {
   "cell_type": "code",
   "execution_count": 15,
   "metadata": {},
   "outputs": [],
   "source": [
    "# Query date and prcp data for the last 12 months\n",
    "date_prcp_list = session.query(Measurement.date, Measurement.prcp).\\\n",
    "                  filter(Measurement.date>=date_thold_1yr.strftime('%Y-%m-%d')).order_by(Measurement.date).all()\n"
   ]
  },
  {
   "cell_type": "code",
   "execution_count": 16,
   "metadata": {},
   "outputs": [
    {
     "data": {
      "text/html": [
       "<div>\n",
       "<style scoped>\n",
       "    .dataframe tbody tr th:only-of-type {\n",
       "        vertical-align: middle;\n",
       "    }\n",
       "\n",
       "    .dataframe tbody tr th {\n",
       "        vertical-align: top;\n",
       "    }\n",
       "\n",
       "    .dataframe thead th {\n",
       "        text-align: right;\n",
       "    }\n",
       "</style>\n",
       "<table border=\"1\" class=\"dataframe\">\n",
       "  <thead>\n",
       "    <tr style=\"text-align: right;\">\n",
       "      <th></th>\n",
       "      <th>prcp</th>\n",
       "    </tr>\n",
       "    <tr>\n",
       "      <th>Date</th>\n",
       "      <th></th>\n",
       "    </tr>\n",
       "  </thead>\n",
       "  <tbody>\n",
       "    <tr>\n",
       "      <th>2016-08-23</th>\n",
       "      <td>0.00</td>\n",
       "    </tr>\n",
       "    <tr>\n",
       "      <th>2016-08-23</th>\n",
       "      <td>0.15</td>\n",
       "    </tr>\n",
       "    <tr>\n",
       "      <th>2016-08-23</th>\n",
       "      <td>0.05</td>\n",
       "    </tr>\n",
       "    <tr>\n",
       "      <th>2016-08-23</th>\n",
       "      <td>0.02</td>\n",
       "    </tr>\n",
       "    <tr>\n",
       "      <th>2016-08-23</th>\n",
       "      <td>1.79</td>\n",
       "    </tr>\n",
       "  </tbody>\n",
       "</table>\n",
       "</div>"
      ],
      "text/plain": [
       "            prcp\n",
       "Date            \n",
       "2016-08-23  0.00\n",
       "2016-08-23  0.15\n",
       "2016-08-23  0.05\n",
       "2016-08-23  0.02\n",
       "2016-08-23  1.79"
      ]
     },
     "execution_count": 16,
     "metadata": {},
     "output_type": "execute_result"
    }
   ],
   "source": [
    "# Retrieve date and prcp data from date_prcp_list\n",
    "list_date=[i[0] for i in date_prcp_list]\n",
    "list_prcp=[i[1] for i in date_prcp_list]\n",
    "\n",
    "# Save the query results as a Pandas DataFrame and set the index to the date column\n",
    "df = pd.DataFrame({\"Date\":list_date,\"prcp\":list_prcp}).set_index(\"Date\")\n",
    "# Sort the dataframe by date and drop the rows including null values\n",
    "df = df.sort_values(by=\"Date\").dropna()\n",
    "df.head()"
   ]
  },
  {
   "cell_type": "code",
   "execution_count": 17,
   "metadata": {},
   "outputs": [
    {
     "data": {
      "image/png": "[encoded data removed]",
      "text/plain": [
       "<Figure size 1152x864 with 1 Axes>"
      ]
     },
     "metadata": {
      "needs_background": "light"
     },
     "output_type": "display_data"
    }
   ],
   "source": [
    "\n",
    "from matplotlib.ticker import NullFormatter\n",
    "\n",
    "# Use Pandas Plotting with Matplotlib to plot the data\n",
    "x_axis = np.arange(len(df))\n",
    "ax = df.plot(kind='line',figsize=(16,12))\n",
    "# Set grid, xlabel and legend\n",
    "plt.grid(True)\n",
    "plt.xlabel(\"date\", fontsize= 25)\n",
    "plt.legend([\"precipitation\"],loc=\"upper center\", fontsize= 30)\n",
    "# Remove xtick label\n",
    "ax.xaxis.set_major_formatter(NullFormatter())\n",
    "# Set yticks fontsize\n",
    "plt.yticks(fontsize=25)\n",
    "# Save plot\n",
    "plt.savefig('output_images/Precipitation Analysis.png', dpi=300)\n",
    "plt.show()"
   ]
  },
  {
   "cell_type": "code",
   "execution_count": 18,
   "metadata": {},
   "outputs": [
    {
     "data": {
      "text/plain": [
       "count    2021.000000\n",
       "mean        0.177279\n",
       "std         0.461190\n",
       "min         0.000000\n",
       "25%         0.000000\n",
       "50%         0.020000\n",
       "75%         0.130000\n",
       "max         6.700000\n",
       "Name: prcp, dtype: float64"
      ]
     },
     "execution_count": 18,
     "metadata": {},
     "output_type": "execute_result"
    }
   ],
   "source": [
    "# Use Pandas to calcualte the summary statistics for the precipitation data\n",
    "df[\"prcp\"].describe()\n"
   ]
  },
  {
   "cell_type": "markdown",
   "metadata": {},
   "source": [
    "### Station Analysis"
   ]
  },
  {
   "cell_type": "code",
   "execution_count": 19,
   "metadata": {},
   "outputs": [
    {
     "name": "stdout",
     "output_type": "stream",
     "text": [
      "There are 9 stations in this dataset.\n"
     ]
    }
   ],
   "source": [
    "# Design a query to show how many stations are available in this dataset?\n",
    "\n",
    "station_count = session.query(Station.station).count()\n",
    "\n",
    "\n",
    "print(f\"There are {station_count} stations in this dataset.\")"
   ]
  },
  {
   "cell_type": "code",
   "execution_count": 20,
   "metadata": {},
   "outputs": [
    {
     "name": "stdout",
     "output_type": "stream",
     "text": [
      "The most active stations is USC00519281.\n"
     ]
    },
    {
     "data": {
      "text/plain": [
       "[('USC00519281', 2772),\n",
       " ('USC00519397', 2724),\n",
       " ('USC00513117', 2709),\n",
       " ('USC00519523', 2669),\n",
       " ('USC00516128', 2612),\n",
       " ('USC00514830', 2202),\n",
       " ('USC00511918', 1979),\n",
       " ('USC00517948', 1372),\n",
       " ('USC00518838', 511)]"
      ]
     },
     "execution_count": 20,
     "metadata": {},
     "output_type": "execute_result"
    }
   ],
   "source": [
    "# What are the most active stations? (i.e. what stations have the most rows)?\n",
    "# List the stations and the counts in descending order.\n",
    "station_count = session.query(Measurement.station, func.count(Measurement.station)).\\\n",
    "                  group_by(Measurement.station).order_by(func.count(Measurement.station).desc()).all()\n",
    "\n",
    "print(f\"The most active stations is {station_count[0][0]}.\")\n",
    "station_count  \n"
   ]
  },
  {
   "cell_type": "code",
   "execution_count": 21,
   "metadata": {},
   "outputs": [
    {
     "data": {
      "text/plain": [
       "[(54.0, 85.0, 71.66378066378067)]"
      ]
     },
     "execution_count": 21,
     "metadata": {},
     "output_type": "execute_result"
    }
   ],
   "source": [
    "# Using the station id from the previous query, calculate the lowest temperature recorded, \n",
    "# highest temperature recorded, and average temperature most active station?\n",
    "sel = [func.min(Measurement.tobs),func.max(Measurement.tobs),func.avg(Measurement.tobs)]\n",
    "tem_expl = session.query(*sel).\\\n",
    "                  filter(Measurement.station==station_count[0][0]).all()\n",
    "tem_expl  "
   ]
  },
  {
   "cell_type": "code",
   "execution_count": 24,
   "metadata": {},
   "outputs": [],
   "source": [
    "# Choose the station with the highest number of temperature observations.\n",
    "# Query the last 12 months of temperature observation data for this station \n",
    "tem_list = session.query(Measurement.tobs).filter(Measurement.station== station_count[0][0]).\\\n",
    "            filter(Measurement.date>= date_thold_1yr.strftime('%Y-%m-%d')).order_by(Measurement.date).all()\n",
    "tem_list = [i[0] for i in tem_list]"
   ]
  },
  {
   "cell_type": "code",
   "execution_count": 25,
   "metadata": {},
   "outputs": [
    {
     "data": {
      "image/png": "[encoded data removed]",
      "text/plain": [
       "<Figure size 432x288 with 1 Axes>"
      ]
     },
     "metadata": {
      "needs_background": "light"
     },
     "output_type": "display_data"
    }
   ],
   "source": [
    "# plot the results as a histogram\n",
    "plt.hist(tem_list,bins=12)\n",
    "# Set legend and ylabel\n",
    "plt.legend([\"tobs\"])\n",
    "plt.ylabel(\"Frequency\")\n",
    "# Set grid\n",
    "plt.grid(True)\n",
    "#  Save plot\n",
    "plt.savefig('output_images/Station Analysis.png')"
   ]
  },
  {
   "cell_type": "code",
   "execution_count": 26,
   "metadata": {},
   "outputs": [
    {
     "data": {
      "text/plain": [
       "['USC00516128',\n",
       " 'USC00513117',\n",
       " 'USC00518838',\n",
       " 'USC00519523',\n",
       " 'USC00517948',\n",
       " 'USC00511918',\n",
       " 'USC00519397',\n",
       " 'USC00519281',\n",
       " 'USC00514830']"
      ]
     },
     "execution_count": 26,
     "metadata": {},
     "output_type": "execute_result"
    }
   ],
   "source": [
    "def stations():\n",
    "    station_list = session.query(Measurement.station).all()\n",
    "    station_list = list(set(station_list))\n",
    "    \n",
    "    station_list = list(np.ravel(station_list))\n",
    "    return station_list\n",
    "stations()"
   ]
  },
  {
   "cell_type": "markdown",
   "metadata": {},
   "source": [
    "### Temperature Analysis"
   ]
  },
  {
   "cell_type": "code",
   "execution_count": 27,
   "metadata": {},
   "outputs": [
    {
     "name": "stdout",
     "output_type": "stream",
     "text": [
      "[(62.0, 69.57142857142857, 74.0)]\n"
     ]
    }
   ],
   "source": [
    "# This function called `calc_temps` will accept start date and end date in the format '%Y-%m-%d' \n",
    "# and return the minimum, average, and maximum temperatures for that range of dates\n",
    "def calc_temps(start_date, end_date):\n",
    "    \"\"\"TMIN, TAVG, and TMAX for a list of dates.\n",
    "    \n",
    "    Args:\n",
    "        start_date (string): A date string in the format %Y-%m-%d\n",
    "        end_date (string): A date string in the format %Y-%m-%d\n",
    "        \n",
    "    Returns:\n",
    "        TMIN, TAVE, and TMAX\n",
    "    \"\"\"\n",
    "    \n",
    "    return session.query(func.min(Measurement.tobs), func.avg(Measurement.tobs), func.max(Measurement.tobs)).\\\n",
    "        filter(Measurement.date >= start_date).filter(Measurement.date <= end_date).all()\n",
    "\n",
    "# function usage example\n",
    "print(calc_temps('2012-02-28', '2012-03-05'))"
   ]
  },
  {
   "cell_type": "code",
   "execution_count": 28,
   "metadata": {},
   "outputs": [
    {
     "data": {
      "text/plain": [
       "[(67.0, 72.375, 83.0)]"
      ]
     },
     "execution_count": 28,
     "metadata": {},
     "output_type": "execute_result"
    }
   ],
   "source": [
    "# For our trip We set start_date and end_start\n",
    "start_date_2019 = '2019-04-16'\n",
    "end_date_2019 = \"2019-04-21\"\n",
    "\n",
    "# We will use 2017 data\n",
    "start_date_2017 = \"2017-04-16\"\n",
    "end_date_2017 = \"2017-04-21\"\n",
    "\n",
    "# Calculate TMIN, TAVE, and TMAX for the trip time in 2017\n",
    "calc_temps(start_date_2017, end_date_2017)"
   ]
  },
  {
   "cell_type": "code",
   "execution_count": 29,
   "metadata": {},
   "outputs": [
    {
     "name": "stdout",
     "output_type": "stream",
     "text": [
      "Temp Min: 67.0, Temp Avg: 72.375,  Temp max: 83.0\n"
     ]
    }
   ],
   "source": [
    "TMIN = calc_temps(start_date_2017, end_date_2017)[0][0]\n",
    "TAVE = calc_temps(start_date_2017, end_date_2017)[0][1]\n",
    "TMAX = calc_temps(start_date_2017, end_date_2017)[0][2]\n",
    "print(f\"Temp Min: {TMIN}, Temp Avg: {TAVE},  Temp max: {TMAX}\")"
   ]
  },
  {
   "cell_type": "code",
   "execution_count": 31,
   "metadata": {},
   "outputs": [
    {
     "data": {
      "image/png": "[encoded data removed]",
      "text/plain": [
       "<Figure size 432x576 with 1 Axes>"
      ]
     },
     "metadata": {
      "needs_background": "light"
     },
     "output_type": "display_data"
    }
   ],
   "source": [
    "# Plot figure for Trip Ave Temp\n",
    "# Use the average temperature for the y value\n",
    "# Use the peak-to-peak (tmax-tmin) value as the y error bar (yerr)\n",
    "plt.figure(figsize=(6,8))\n",
    "plt.bar(1, TAVE,color = 'pink', yerr = TMAX-TMIN, align='center',tick_label=\"\", width=1.2) \n",
    "\n",
    "# Set x_axis and y_axis scale limitation\n",
    "plt.ylim(0,110)\n",
    "plt.xlim(0,2)\n",
    "\n",
    "# Use \"Trip Avg Temp\" as Title\n",
    "plt.title(f\"Trip Ave Temp\", fontsize=14)\n",
    "# Set ylabel\n",
    "plt.ylabel(\"Temp (F)\")\n",
    "plt.tight_layout()\n",
    "# Save plot\n",
    "plt.savefig('output_images/Trip Ave Temp.png')\n",
    "\n",
    "plt.show()"
   ]
  },
  {
   "cell_type": "markdown",
   "metadata": {},
   "source": [
    "### Total Rainfall Analysis"
   ]
  },
  {
   "cell_type": "code",
   "execution_count": 32,
   "metadata": {},
   "outputs": [
    {
     "data": {
      "text/plain": [
       "\"[('USC00519281', 'WAIHEE 837.5, HI US', 32.9, -157.84888999999998, 32.9, 5.35), ('USC00516128', 'MANOA LYON ARBO 785.2, HI US', 152.4, -157.8025, 152.4, 4.37), ('USC00519523', 'WAIMANALO EXPERIMENTAL FARM, HI US', 19.5, -157.71139, 19.5, 3.1599999999999997), ('USC00513117', 'KANEOHE 838.1, HI US', 14.6, -157.8015, 14.6, 2.4899999999999998), ('USC00514830', 'KUALOA RANCH HEADQUARTERS 886.9, HI US', 7.0, -157.8374, 7.0, 1.17), ('USC00519397', 'WAIKIKI 717.2, HI US', 3.0, -157.8168, 3.0, 0.32), ('USC00517948', 'PEARL CITY, HI US', 11.9, -157.9751, 11.9, 0.0)]\""
      ]
     },
     "execution_count": 32,
     "metadata": {},
     "output_type": "execute_result"
    }
   ],
   "source": [
    "import pprint\n",
    "# Calculate the total amount of rainfall per weather station for your trip dates using the previous year's matching dates.\n",
    "# Sort this in descending order by precipitation amount and list the station, name, latitude, longitude, and elevation\n",
    "\n",
    "sel= [Station.station,Station.name,Station.elevation, Station.longitude, Station.elevation,\n",
    "                  func.sum(Measurement.prcp)]\n",
    "rainfall_info = session.query(*sel).filter(Measurement.station == Station.station)\\\n",
    "                .filter(Measurement.date >= start_date_2017)\\\n",
    "                .filter(Measurement.date <= end_date_2017).group_by(Station.station)\\\n",
    "                .order_by(func.sum(Measurement.prcp).desc()).all()\n",
    "                           \n",
    "   \n",
    "                  \n",
    "pprint.saferepr(rainfall_info)    "
   ]
  },
  {
   "cell_type": "markdown",
   "metadata": {},
   "source": [
    "## Optional Challenge Assignment"
   ]
  },
  {
   "cell_type": "markdown",
   "metadata": {},
   "source": [
    "### Daily Normals"
   ]
  },
  {
   "cell_type": "code",
   "execution_count": 33,
   "metadata": {},
   "outputs": [
    {
     "data": {
      "text/plain": [
       "[(62.0, 69.15384615384616, 77.0)]"
      ]
     },
     "execution_count": 33,
     "metadata": {},
     "output_type": "execute_result"
    }
   ],
   "source": [
    "# Create a query that will calculate the daily normals \n",
    "# (i.e. the averages for tmin, tmax, and tavg for all historic data matching a specific month and day)\n",
    "\n",
    "def daily_normals(date):\n",
    "    \"\"\"Daily Normals.\n",
    "    \n",
    "    Args:\n",
    "        date (str): A date string in the format '%m-%d'\n",
    "        \n",
    "    Returns:\n",
    "        A list of tuples containing the daily normals, \n",
    "    tmin, tavg, and tmax\n",
    "    \"\"\"\n",
    "    \n",
    "    sel = [func.min(Measurement.tobs), func.avg(Measurement.tobs), func.max(Measurement.tobs)]\n",
    "    return session.query(*sel).filter(func.strftime(\"%m-%d\", Measurement.date) == date).all()\n",
    "    \n",
    "daily_normals(\"01-01\")"
   ]
  },
  {
   "cell_type": "code",
   "execution_count": 38,
   "metadata": {},
   "outputs": [],
   "source": [
    "# Set the start and end date of the trip\n",
    "start_date_2019 = '2019-04-16'\n",
    "end_date_2019 = \"2019-04-21\"\n",
    "# Convert start_date to int list\n",
    "start_date_2019_list = [int(i) for i in start_date_2019.split('-')]\n",
    "# Calculate the whole trip during days and record all the date of the trip\n",
    "Trip_During = 1\n",
    "Trip_date_list = [start_date_2019]\n",
    "\n",
    "query_date = dt.date(*start_date_2019_list) \n",
    "while query_date != end_date_2019:\n",
    "    query_date = dt.date(*start_date_2019_list) + dt.timedelta(days = Trip_During)\n",
    "    # Convert datetime object to a String of date\n",
    "    query_date = query_date.strftime('%Y-%m-%d')\n",
    "    Trip_date_list.append(query_date)\n",
    "    Trip_During = Trip_During +1\n",
    "    \n"
   ]
  },
  {
   "cell_type": "code",
   "execution_count": 39,
   "metadata": {},
   "outputs": [
    {
     "name": "stdout",
     "output_type": "stream",
     "text": [
      "My trip has 6 days.\n"
     ]
    },
    {
     "data": {
      "text/plain": [
       "\"['2019-04-16', '2019-04-17', '2019-04-18', '2019-04-19', '2019-04-20', '2019-04-21']\""
      ]
     },
     "execution_count": 39,
     "metadata": {},
     "output_type": "execute_result"
    }
   ],
   "source": [
    "# Display all the date the trip including\n",
    "print(f\"My trip has {len(Trip_date_list)} days.\")\n",
    "pprint.saferepr(Trip_date_list) \n"
   ]
  },
  {
   "cell_type": "code",
   "execution_count": 40,
   "metadata": {},
   "outputs": [
    {
     "data": {
      "text/plain": [
       "[(62.0, 71.55357142857143, 81.0),\n",
       " (65.0, 71.93103448275862, 77.0),\n",
       " (67.0, 72.49152542372882, 77.0),\n",
       " (65.0, 72.42105263157895, 83.0),\n",
       " (64.0, 72.73684210526316, 80.0),\n",
       " (66.0, 72.32142857142857, 78.0)]"
      ]
     },
     "execution_count": 40,
     "metadata": {},
     "output_type": "execute_result"
    }
   ],
   "source": [
    "# Loop through the list of %m-%d strings and calculate the normals for each date\n",
    "normals = [daily_normals(i[-5:])[0] for i in Trip_date_list]\n",
    "normals"
   ]
  },
  {
   "cell_type": "code",
   "execution_count": 41,
   "metadata": {},
   "outputs": [
    {
     "data": {
      "text/plain": [
       "[[62.0, 71.55357142857143, 81.0, '2019-04-16'],\n",
       " [65.0, 71.93103448275862, 77.0, '2019-04-17'],\n",
       " [67.0, 72.49152542372882, 77.0, '2019-04-18'],\n",
       " [65.0, 72.42105263157895, 83.0, '2019-04-19'],\n",
       " [64.0, 72.73684210526316, 80.0, '2019-04-20'],\n",
       " [66.0, 72.32142857142857, 78.0, '2019-04-21']]"
      ]
     },
     "execution_count": 41,
     "metadata": {},
     "output_type": "execute_result"
    }
   ],
   "source": [
    "# Add trip_dates in the list\n",
    "normals_1 =[list(i) for i in normals]\n",
    "for i in range(len(Trip_date_list)):\n",
    "    normals_1[i].append(Trip_date_list[i])\n",
    "normals_1"
   ]
  },
  {
   "cell_type": "code",
   "execution_count": 42,
   "metadata": {},
   "outputs": [
    {
     "data": {
      "text/html": [
       "<div>\n",
       "<style scoped>\n",
       "    .dataframe tbody tr th:only-of-type {\n",
       "        vertical-align: middle;\n",
       "    }\n",
       "\n",
       "    .dataframe tbody tr th {\n",
       "        vertical-align: top;\n",
       "    }\n",
       "\n",
       "    .dataframe thead th {\n",
       "        text-align: right;\n",
       "    }\n",
       "</style>\n",
       "<table border=\"1\" class=\"dataframe\">\n",
       "  <thead>\n",
       "    <tr style=\"text-align: right;\">\n",
       "      <th></th>\n",
       "      <th>tmin</th>\n",
       "      <th>tavg</th>\n",
       "      <th>tmax</th>\n",
       "    </tr>\n",
       "    <tr>\n",
       "      <th>date</th>\n",
       "      <th></th>\n",
       "      <th></th>\n",
       "      <th></th>\n",
       "    </tr>\n",
       "  </thead>\n",
       "  <tbody>\n",
       "    <tr>\n",
       "      <th>2019-04-16</th>\n",
       "      <td>62.0</td>\n",
       "      <td>71.55357142857143</td>\n",
       "      <td>81.0</td>\n",
       "    </tr>\n",
       "    <tr>\n",
       "      <th>2019-04-17</th>\n",
       "      <td>65.0</td>\n",
       "      <td>71.93103448275862</td>\n",
       "      <td>77.0</td>\n",
       "    </tr>\n",
       "    <tr>\n",
       "      <th>2019-04-18</th>\n",
       "      <td>67.0</td>\n",
       "      <td>72.49152542372882</td>\n",
       "      <td>77.0</td>\n",
       "    </tr>\n",
       "    <tr>\n",
       "      <th>2019-04-19</th>\n",
       "      <td>65.0</td>\n",
       "      <td>72.42105263157895</td>\n",
       "      <td>83.0</td>\n",
       "    </tr>\n",
       "    <tr>\n",
       "      <th>2019-04-20</th>\n",
       "      <td>64.0</td>\n",
       "      <td>72.73684210526316</td>\n",
       "      <td>80.0</td>\n",
       "    </tr>\n",
       "    <tr>\n",
       "      <th>2019-04-21</th>\n",
       "      <td>66.0</td>\n",
       "      <td>72.32142857142857</td>\n",
       "      <td>78.0</td>\n",
       "    </tr>\n",
       "  </tbody>\n",
       "</table>\n",
       "</div>"
      ],
      "text/plain": [
       "            tmin               tavg  tmax\n",
       "date                                     \n",
       "2019-04-16  62.0  71.55357142857143  81.0\n",
       "2019-04-17  65.0  71.93103448275862  77.0\n",
       "2019-04-18  67.0  72.49152542372882  77.0\n",
       "2019-04-19  65.0  72.42105263157895  83.0\n",
       "2019-04-20  64.0  72.73684210526316  80.0\n",
       "2019-04-21  66.0  72.32142857142857  78.0"
      ]
     },
     "execution_count": 42,
     "metadata": {},
     "output_type": "execute_result"
    }
   ],
   "source": [
    "# Load the previous query results into a Pandas DataFrame and set date as index\n",
    "df2= pd.DataFrame(np.array(normals_1),columns=[\"tmin\", \"tavg\", \"tmax\",\"date\"]).set_index(\"date\")\n",
    "df2\n"
   ]
  },
  {
   "cell_type": "code",
   "execution_count": 43,
   "metadata": {},
   "outputs": [],
   "source": [
    "# Convert value from str to float for columns 'tmin','tavg','tmax'\n",
    "df2['tmin']=df2['tmin'].apply(lambda x: pd.to_numeric(x))\n",
    "df2['tavg']=df2['tavg'].apply(lambda x: pd.to_numeric(x))\n",
    "df2['tmax']=df2['tmax'].apply(lambda x: pd.to_numeric(x))"
   ]
  },
  {
   "cell_type": "code",
   "execution_count": 44,
   "metadata": {},
   "outputs": [
    {
     "name": "stdout",
     "output_type": "stream",
     "text": [
      "<class 'pandas.core.frame.DataFrame'>\n",
      "Index: 6 entries, 2019-04-16 to 2019-04-21\n",
      "Data columns (total 3 columns):\n",
      "tmin    6 non-null float64\n",
      "tavg    6 non-null float64\n",
      "tmax    6 non-null float64\n",
      "dtypes: float64(3)\n",
      "memory usage: 192.0+ bytes\n"
     ]
    }
   ],
   "source": [
    "# Check the change\n",
    "df2.info()"
   ]
  },
  {
   "cell_type": "code",
   "execution_count": 45,
   "metadata": {},
   "outputs": [
    {
     "data": {
      "image/png": "[encoded data removed]",
      "text/plain": [
       "<Figure size 720x432 with 1 Axes>"
      ]
     },
     "metadata": {
      "needs_background": "light"
     },
     "output_type": "display_data"
    }
   ],
   "source": [
    "# Plot the daily normals as an area plot with `stacked=False`\n",
    "x_axis=[(i-0.3) for i in range(len(df2))]\n",
    "df2.plot.area(stacked=False, figsize=(10,6),alpha=0.5)\n",
    "plt.xticks(x_axis, df2.index, rotation=45)\n",
    "plt.xlabel(\"date\")\n",
    "\n",
    "# Save plot\n",
    "plt.savefig('output_images/Daily Temp Normals.png')"
   ]
  },
  {
   "cell_type": "code",
   "execution_count": null,
   "metadata": {},
   "outputs": [],
   "source": []
  }
 ],
 "metadata": {
  "kernel_info": {
   "name": "python3"
  },
  "kernelspec": {
   "display_name": "Python 3",
   "language": "python",
   "name": "python3"
  },
  "language_info": {
   "codemirror_mode": {
    "name": "ipython",
    "version": 3
   },
   "file_extension": ".py",
   "mimetype": "text/x-python",
   "name": "python",
   "nbconvert_exporter": "python",
   "pygments_lexer": "ipython3",
   "version": "3.7.3"
  },
  "nteract": {
   "version": "0.12.3"
  },
  "varInspector": {
   "cols": {
    "lenName": 16,
    "lenType": 16,
    "lenVar": 40
   },
   "kernels_config": {
    "python": {
     "delete_cmd_postfix": "",
     "delete_cmd_prefix": "del ",
     "library": "var_list.py",
     "varRefreshCmd": "print(var_dic_list())"
    },
    "r": {
     "delete_cmd_postfix": ") ",
     "delete_cmd_prefix": "rm(",
     "library": "var_list.r",
     "varRefreshCmd": "cat(var_dic_list()) "
    }
   },
   "types_to_exclude": [
    "module",
    "function",
    "builtin_function_or_method",
    "instance",
    "_Feature"
   ],
   "window_display": false
  }
 },
 "nbformat": 4,
 "nbformat_minor": 2
}
